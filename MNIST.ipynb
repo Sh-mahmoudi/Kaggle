{
  "nbformat": 4,
  "nbformat_minor": 0,
  "metadata": {
    "colab": {
      "provenance": [],
      "authorship_tag": "ABX9TyOzlrpicoqT+tr2OckIM6eN"
    },
    "kernelspec": {
      "name": "python3",
      "display_name": "Python 3"
    },
    "language_info": {
      "name": "python"
    }
  },
  "cells": [
    {
      "cell_type": "markdown",
      "source": [
        "Libraries"
      ],
      "metadata": {
        "id": "WTzcWLj6aIdW"
      }
    },
    {
      "cell_type": "code",
      "execution_count": 23,
      "metadata": {
        "id": "cZE0nmH0T-90"
      },
      "outputs": [],
      "source": [
        "import numpy as np\n",
        "import matplotlib.pyplot as plt\n",
        "%matplotlib inline\n",
        "import torch\n",
        "import torchvision\n",
        "from torchvision.datasets import MNIST\n",
        "from torchvision.transforms import ToTensor\n",
        "from torch.utils.data.sampler import SubsetRandomSampler\n",
        "from torch.utils.data.dataloader import DataLoader\n",
        "import torch.nn.functional as F\n",
        "import torch.nn as nn\n",
        "MNIST_dataset=MNIST(root='data/',download=True,transform=ToTensor())"
      ]
    },
    {
      "cell_type": "markdown",
      "source": [
        "Split Dataset to Train and Test Dataset"
      ],
      "metadata": {
        "id": "WhVeH2afnu2E"
      }
    },
    {
      "cell_type": "code",
      "source": [
        "def split_indices(n, val_pct):\n",
        "  n_val=int(val_pct*n)\n",
        "  idxs=np.random.permutation(n)\n",
        "  return idxs[n_val:],idxs[:n_val]"
      ],
      "metadata": {
        "id": "Y08iym2KaFQt"
      },
      "execution_count": 24,
      "outputs": []
    },
    {
      "cell_type": "code",
      "source": [
        "batch_size=100\n",
        "train_indices,val_indices=split_indices(len(MNIST_dataset),val_pct=0.2)\n",
        "train_sampler=SubsetRandomSampler(train_indices)\n",
        "train_dl=DataLoader(MNIST_dataset,batch_size,sampler=train_sampler)\n",
        "valid_sampler=SubsetRandomSampler(val_indices)\n",
        "valid_dl=DataLoader(MNIST_dataset,batch_size,sampler=valid_sampler)"
      ],
      "metadata": {
        "id": "KCrnHsabb9Ma"
      },
      "execution_count": 25,
      "outputs": []
    },
    {
      "cell_type": "markdown",
      "source": [
        "Use GPU"
      ],
      "metadata": {
        "id": "CsPI6V-Ut2WR"
      }
    },
    {
      "cell_type": "code",
      "source": [
        "device= torch.device('cuda') if torch.cuda.is_available() else torch.device('cpu')"
      ],
      "metadata": {
        "id": "-BA_AAMQt2gi"
      },
      "execution_count": 26,
      "outputs": []
    },
    {
      "cell_type": "code",
      "source": [
        "def to_device(data,device):\n",
        "  if isinstance(data,(list,tuple)):\n",
        "    return[to_device(x,device) for x in data]\n",
        "  return data.to(device,non_blocking=True)"
      ],
      "metadata": {
        "id": "X3UHny5Hu57T"
      },
      "execution_count": 27,
      "outputs": []
    },
    {
      "cell_type": "code",
      "source": [
        "class DeviceDataLoader():\n",
        "  def __init__(self,dl,device):\n",
        "    self.dl=dl\n",
        "    self.device=device\n",
        "  def __iter__(self):\n",
        "    for b in self.dl:\n",
        "      yield to_device(b,self.device)\n",
        "  def __len__(self):\n",
        "    return len(self.dl)"
      ],
      "metadata": {
        "id": "95saKQL0t6Y3"
      },
      "execution_count": 28,
      "outputs": []
    },
    {
      "cell_type": "code",
      "source": [
        "train_dl=DeviceDataLoader(train_dl,device)\n",
        "valid_dl=DeviceDataLoader(valid_dl,device)"
      ],
      "metadata": {
        "id": "Cxj66OPHt_UB"
      },
      "execution_count": 29,
      "outputs": []
    },
    {
      "cell_type": "markdown",
      "source": [
        "Feedforward Neural Network Model"
      ],
      "metadata": {
        "id": "2BhUE4l-zkrJ"
      }
    },
    {
      "cell_type": "code",
      "source": [
        "class MnistModel(nn.Module):\n",
        "  def __init__(self,in_size,hidden_size,out_size):\n",
        "    super().__init__()\n",
        "    self.linear1=nn.Linear(in_size,hidden_size)\n",
        "    self.linear2=nn.Linear(hidden_size,out_size)\n",
        "  def forward(self,xb):\n",
        "    xb=xb.view(xb.size(0),-1)\n",
        "    out=self.linear1(xb)\n",
        "    out=F.relu(out)\n",
        "    return(out)"
      ],
      "metadata": {
        "id": "msnkbtgX0V19"
      },
      "execution_count": 30,
      "outputs": []
    },
    {
      "cell_type": "code",
      "source": [
        "input_size=784\n",
        "num_classes=10\n",
        "model=MnistModel(input_size,hidden_size=32,out_size=num_classes)"
      ],
      "metadata": {
        "id": "tIGkTIMuzk0F"
      },
      "execution_count": 31,
      "outputs": []
    },
    {
      "cell_type": "code",
      "source": [
        "for t in model.parameters():\n",
        "  print(t.shape)"
      ],
      "metadata": {
        "id": "kiOl-dq_zw2K",
        "colab": {
          "base_uri": "https://localhost:8080/"
        },
        "outputId": "86d5ba14-2d20-4ee1-91c3-0e83a86f1803"
      },
      "execution_count": 33,
      "outputs": [
        {
          "output_type": "stream",
          "name": "stdout",
          "text": [
            "torch.Size([32, 784])\n",
            "torch.Size([32])\n",
            "torch.Size([10, 32])\n",
            "torch.Size([10])\n"
          ]
        }
      ]
    },
    {
      "cell_type": "code",
      "source": [
        "for images,labels in train_dl:\n",
        "  outputs=model(images)\n",
        "  loss=F.cross_entropy(outputs,labels)\n",
        "  print('Loss:',loss.item())\n",
        "  break\n",
        "print('outputs.shape:',outputs.shape)\n",
        "print('Sample Outputs:\\n',outputs[:2].data)"
      ],
      "metadata": {
        "id": "CRBlJ34qzxY8",
        "colab": {
          "base_uri": "https://localhost:8080/"
        },
        "outputId": "65cb2a00-d7c1-43bc-9174-72eea9d41732"
      },
      "execution_count": 34,
      "outputs": [
        {
          "output_type": "stream",
          "name": "stdout",
          "text": [
            "Loss: 3.4242818355560303\n",
            "outputs.shape: torch.Size([100, 32])\n",
            "Sample Outputs:\n",
            " tensor([[0.0000, 0.0445, 0.1109, 0.3665, 0.0000, 0.0000, 0.0234, 0.0409, 0.1860,\n",
            "         0.0000, 0.0000, 0.0661, 0.1120, 0.0000, 0.0000, 0.0000, 0.0000, 0.0000,\n",
            "         0.0000, 0.0195, 0.0000, 0.0000, 0.0000, 0.1733, 0.0000, 0.0788, 0.1299,\n",
            "         0.3914, 0.0543, 0.0000, 0.0000, 0.3003],\n",
            "        [0.0000, 0.1373, 0.0000, 0.0900, 0.0000, 0.0000, 0.0314, 0.2902, 0.2715,\n",
            "         0.0000, 0.0000, 0.2331, 0.0000, 0.0000, 0.0000, 0.0000, 0.0000, 0.0000,\n",
            "         0.0000, 0.0000, 0.0000, 0.0000, 0.0676, 0.0159, 0.0000, 0.0000, 0.1374,\n",
            "         0.3083, 0.0010, 0.1085, 0.2078, 0.0000]])\n"
          ]
        }
      ]
    },
    {
      "cell_type": "markdown",
      "source": [
        "Train the Model"
      ],
      "metadata": {
        "id": "_lu9vnc16Q2M"
      }
    },
    {
      "cell_type": "code",
      "source": [
        "def loss_batch(model,loss_func,xb,yb,opt=None,metric=None):\n",
        "  preds=model(xb)\n",
        "  loss=loss_func(preds,yb)\n",
        "\n",
        "  if opt is not None:\n",
        "    loss.backward()\n",
        "    opt.step()\n",
        "    opt.zero_grad()\n",
        "\n",
        "  metric_result=None\n",
        "  if metric is not None:\n",
        "    metric_result=metric(preds,yb)\n",
        "\n",
        "  return loss.item(), len(xb),metric_result\n"
      ],
      "metadata": {
        "id": "LEd4SWc98VCc"
      },
      "execution_count": 35,
      "outputs": []
    },
    {
      "cell_type": "code",
      "source": [
        "def evaluate(model, loss_fn,valid_dl,metric=None):\n",
        "  with torch.no_grad():\n",
        "    results=[loss_batch(model, loss_fn, xb,yb,metric=metric)for xb,yb in valid_dl]\n",
        "    losses, nums, metrics= zip(*results)\n",
        "    total= np.sum(nums)\n",
        "    avg_loss= np.sum(np.multiply(losses,nums))/total\n",
        "    avg_metric=None\n",
        "    if metric is not None:\n",
        "      avg_metric= np.sum(np.multiply(metrics,nums))/total\n",
        "  return avg_loss, total, avg_metric"
      ],
      "metadata": {
        "id": "aDXCCQsJ6RA7"
      },
      "execution_count": 36,
      "outputs": []
    },
    {
      "cell_type": "code",
      "source": [
        "def fit(epochs, lr, model, loss_fn, train_dl, valid_dl , metric=None, opt_fn=None):\n",
        "  if opt_fn is None: opt_fn = torch.optim.SGD\n",
        "  opt = torch.optim.SGD(model.parameters(), lr=lr)\n",
        "  for epoch in range(epochs):\n",
        "    for xb, yb in train_dl:\n",
        "      loss,_,_ = loss_batch(model, loss_fn, xb, yb, opt)\n",
        "    result = evaluate(model, loss_fn, valid_dl, metric)\n",
        "    val_loss, total, val_metric = result\n",
        "    if metric is None:\n",
        "      print('Epoch[{}/{}],Loss:{:.4f}'.format(epoch+1, epochs, val_loss))\n",
        "    else:\n",
        "      print('Epoch[{}/{}],Loss:{:.4f},{}: {:.4f}'.format(epoch+1, epochs, val_loss, metric.__name__, val_metric))\n"
      ],
      "metadata": {
        "id": "xB6HYGch6R4I"
      },
      "execution_count": 37,
      "outputs": []
    },
    {
      "cell_type": "code",
      "source": [
        "def accuracy(outputs,labels):\n",
        "  _,preds=torch.max(outputs,dim=1)\n",
        "  return torch.sum(preds==labels).item()/len(preds)"
      ],
      "metadata": {
        "id": "bxcpF46i6R8n"
      },
      "execution_count": 38,
      "outputs": []
    },
    {
      "cell_type": "code",
      "source": [
        "model=MnistModel(input_size,hidden_size=32,out_size=num_classes)\n",
        "model =to_device(model,device)"
      ],
      "metadata": {
        "id": "uQSAcu5n6SBc"
      },
      "execution_count": 39,
      "outputs": []
    },
    {
      "cell_type": "code",
      "source": [
        "evaluate(model,F.cross_entropy,valid_dl,accuracy)"
      ],
      "metadata": {
        "id": "FkPPbqqx6YnJ",
        "colab": {
          "base_uri": "https://localhost:8080/"
        },
        "outputId": "6554a764-1f77-48d5-b090-8c0370f3b341"
      },
      "execution_count": 40,
      "outputs": [
        {
          "output_type": "execute_result",
          "data": {
            "text/plain": [
              "(np.float64(3.4687880913416547), np.int64(12000), np.float64(0.0225))"
            ]
          },
          "metadata": {},
          "execution_count": 40
        }
      ]
    },
    {
      "cell_type": "code",
      "source": [
        "fit(5,0.5,model,F.cross_entropy,train_dl,valid_dl,accuracy)"
      ],
      "metadata": {
        "id": "UuwPPADY6YsD",
        "colab": {
          "base_uri": "https://localhost:8080/"
        },
        "outputId": "43c2a12c-14fc-4c08-9d28-0598b161f25c"
      },
      "execution_count": 41,
      "outputs": [
        {
          "output_type": "stream",
          "name": "stdout",
          "text": [
            "Epoch[1/5],Loss:0.3289,accuracy: 0.9063\n",
            "Epoch[2/5],Loss:0.3008,accuracy: 0.9179\n",
            "Epoch[3/5],Loss:0.2973,accuracy: 0.9169\n",
            "Epoch[4/5],Loss:0.3058,accuracy: 0.9125\n",
            "Epoch[5/5],Loss:0.2975,accuracy: 0.9139\n"
          ]
        }
      ]
    },
    {
      "cell_type": "code",
      "source": [
        "fit(5,0.5,model,F.cross_entropy,train_dl,valid_dl,accuracy)"
      ],
      "metadata": {
        "id": "yMrqula_6YxD",
        "colab": {
          "base_uri": "https://localhost:8080/"
        },
        "outputId": "ebcdfa65-d846-4fe2-b1df-6bc0dd0bab44"
      },
      "execution_count": 42,
      "outputs": [
        {
          "output_type": "stream",
          "name": "stdout",
          "text": [
            "Epoch[1/5],Loss:0.2833,accuracy: 0.9216\n",
            "Epoch[2/5],Loss:0.2866,accuracy: 0.9198\n",
            "Epoch[3/5],Loss:0.2833,accuracy: 0.9235\n",
            "Epoch[4/5],Loss:0.2925,accuracy: 0.9173\n",
            "Epoch[5/5],Loss:0.2851,accuracy: 0.9219\n"
          ]
        }
      ]
    },
    {
      "cell_type": "code",
      "source": [
        "fit(5,0.05,model,F.cross_entropy,train_dl,valid_dl,accuracy)"
      ],
      "metadata": {
        "id": "V2XSIIyfrf_y",
        "outputId": "5707ad49-e256-4445-b0e3-51c0f78d1212",
        "colab": {
          "base_uri": "https://localhost:8080/"
        }
      },
      "execution_count": 43,
      "outputs": [
        {
          "output_type": "stream",
          "name": "stdout",
          "text": [
            "Epoch[1/5],Loss:0.2777,accuracy: 0.9231\n",
            "Epoch[2/5],Loss:0.2772,accuracy: 0.9250\n",
            "Epoch[3/5],Loss:0.2772,accuracy: 0.9252\n",
            "Epoch[4/5],Loss:0.2770,accuracy: 0.9250\n",
            "Epoch[5/5],Loss:0.2771,accuracy: 0.9250\n"
          ]
        }
      ]
    },
    {
      "cell_type": "code",
      "source": [
        "accuracies=[0.02,0.9063,0.9179,0.9169,0.9125,0.9139,0.9216,0.9198,0.9235,0.9173,0.9219,0.9231,0.9250,0.9252,0.9250,0.9250]\n",
        "plt.plot(accuracies,'-x')\n",
        "plt.xlabel('epoch')\n",
        "plt.ylabel('accuracy')\n",
        "plt.title('Accuracy vs. No. of epochs');"
      ],
      "metadata": {
        "id": "AaaW7UTB6een",
        "colab": {
          "base_uri": "https://localhost:8080/",
          "height": 472
        },
        "outputId": "c56b0130-790f-409c-a2d2-2d820776bc53"
      },
      "execution_count": 45,
      "outputs": [
        {
          "output_type": "display_data",
          "data": {
            "text/plain": [
              "<Figure size 640x480 with 1 Axes>"
            ],
            "image/png": "[encoded data removed]"
          },
          "metadata": {}
        }
      ]
    }
  ]
}