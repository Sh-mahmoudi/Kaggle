{
 "cells": [
  {
   "cell_type": "markdown",
   "id": "082c0b75",
   "metadata": {},
   "source": [
    "Libraries"
   ]
  },
  {
   "cell_type": "code",
   "execution_count": 68,
   "id": "c6948e34",
   "metadata": {},
   "outputs": [
    {
     "name": "stdout",
     "output_type": "stream",
     "text": [
      "(5572, 2)\n",
      "label\n",
      "ham     4825\n",
      "spam     747\n",
      "Name: count, dtype: int64\n"
     ]
    },
    {
     "data": {
      "text/html": [
       "<div>\n",
       "<style scoped>\n",
       "    .dataframe tbody tr th:only-of-type {\n",
       "        vertical-align: middle;\n",
       "    }\n",
       "\n",
       "    .dataframe tbody tr th {\n",
       "        vertical-align: top;\n",
       "    }\n",
       "\n",
       "    .dataframe thead th {\n",
       "        text-align: right;\n",
       "    }\n",
       "</style>\n",
       "<table border=\"1\" class=\"dataframe\">\n",
       "  <thead>\n",
       "    <tr style=\"text-align: right;\">\n",
       "      <th></th>\n",
       "      <th>label</th>\n",
       "      <th>message</th>\n",
       "    </tr>\n",
       "  </thead>\n",
       "  <tbody>\n",
       "    <tr>\n",
       "      <th>0</th>\n",
       "      <td>ham</td>\n",
       "      <td>Go until jurong point, crazy.. Available only ...</td>\n",
       "    </tr>\n",
       "    <tr>\n",
       "      <th>1</th>\n",
       "      <td>ham</td>\n",
       "      <td>Ok lar... Joking wif u oni...</td>\n",
       "    </tr>\n",
       "    <tr>\n",
       "      <th>2</th>\n",
       "      <td>spam</td>\n",
       "      <td>Free entry in 2 a wkly comp to win FA Cup fina...</td>\n",
       "    </tr>\n",
       "    <tr>\n",
       "      <th>3</th>\n",
       "      <td>ham</td>\n",
       "      <td>U dun say so early hor... U c already then say...</td>\n",
       "    </tr>\n",
       "    <tr>\n",
       "      <th>4</th>\n",
       "      <td>ham</td>\n",
       "      <td>Nah I don't think he goes to usf, he lives aro...</td>\n",
       "    </tr>\n",
       "  </tbody>\n",
       "</table>\n",
       "</div>"
      ],
      "text/plain": [
       "  label                                            message\n",
       "0   ham  Go until jurong point, crazy.. Available only ...\n",
       "1   ham                      Ok lar... Joking wif u oni...\n",
       "2  spam  Free entry in 2 a wkly comp to win FA Cup fina...\n",
       "3   ham  U dun say so early hor... U c already then say...\n",
       "4   ham  Nah I don't think he goes to usf, he lives aro..."
      ]
     },
     "execution_count": 68,
     "metadata": {},
     "output_type": "execute_result"
    }
   ],
   "source": [
    "import pandas as pd\n",
    "#import numpy as np\n",
    "from sklearn import metrics, svm\n",
    "from sklearn. model_selection import train_test_split\n",
    "from sklearn.feature_extraction.text import CountVectorizer\n",
    "from sklearn.naive_bayes import MultinomialNB\n",
    "from sklearn.linear_model import LogisticRegression\n",
    "sms=pd.read_csv('E:\\\\shirin\\\\Kaggle\\\\6-SMS\\\\spam.csv',usecols=[0,1],header=0,names=['label', 'message'] ,encoding='latin-1')\n",
    "print(sms.shape)\n",
    "print(sms.label.value_counts())\n",
    "sms.head()"
   ]
  },
  {
   "cell_type": "markdown",
   "id": "1ab9c1c8",
   "metadata": {},
   "source": [
    "Spilit Dataset to Train and Test Dataset"
   ]
  },
  {
   "cell_type": "code",
   "execution_count": 69,
   "id": "aae7660f",
   "metadata": {},
   "outputs": [
    {
     "name": "stdout",
     "output_type": "stream",
     "text": [
      "(4179,)\n",
      "(4179,)\n",
      "(1393,)\n",
      "(1393,)\n"
     ]
    }
   ],
   "source": [
    "X=sms.message\n",
    "y=sms.label\n",
    "X_train,X_test,y_train,y_test=train_test_split(X,y,random_state=42)\n",
    "print(X_train.shape)\n",
    "print(y_train.shape)\n",
    "print(X_test.shape)\n",
    "print(y_test.shape)"
   ]
  },
  {
   "cell_type": "markdown",
   "id": "796ae022",
   "metadata": {},
   "source": [
    "Vectorizing Our Dataset"
   ]
  },
  {
   "cell_type": "code",
   "execution_count": 70,
   "id": "9bd74103",
   "metadata": {},
   "outputs": [
    {
     "name": "stdout",
     "output_type": "stream",
     "text": [
      "(4179, 7441)\n",
      "(1393, 7441)\n"
     ]
    }
   ],
   "source": [
    "vect=CountVectorizer()\n",
    "X_train_dtm=vect.fit_transform(X_train,y_train)\n",
    "print(X_train_dtm.shape)\n",
    "X_test_dtm=vect.transform(X_test)\n",
    "print(X_test_dtm.shape)"
   ]
  },
  {
   "cell_type": "markdown",
   "id": "1c7b785d",
   "metadata": {},
   "source": [
    "Building Model"
   ]
  },
  {
   "cell_type": "code",
   "execution_count": 71,
   "id": "699fe29e",
   "metadata": {},
   "outputs": [
    {
     "name": "stdout",
     "output_type": "stream",
     "text": [
      "CPU times: total: 0 ns\n",
      "Wall time: 4.75 ms\n",
      "Accuracy Score:0.9820531227566404\n",
      "Confusion Matrix:\n",
      "[[1199    3]\n",
      " [  22  169]]\n"
     ]
    }
   ],
   "source": [
    "nb= MultinomialNB()\n",
    "%time nb.fit(X_train_dtm,y_train)\n",
    "y_pred_nb=nb.predict(X_test_dtm)\n",
    "print(f'Accuracy Score:{metrics.accuracy_score(y_test, y_pred_nb)}')\n",
    "print(f'Confusion Matrix:\\n{metrics.confusion_matrix(y_test, y_pred_nb)}')"
   ]
  },
  {
   "cell_type": "code",
   "execution_count": 72,
   "id": "b0a51153",
   "metadata": {},
   "outputs": [
    {
     "name": "stdout",
     "output_type": "stream",
     "text": [
      "CPU times: total: 15.6 ms\n",
      "Wall time: 39.2 ms\n",
      "Accuracy Score:0.9748743718592965\n",
      "Confusion Matrix:\n",
      "[[1199    3]\n",
      " [  32  159]]\n"
     ]
    }
   ],
   "source": [
    "logit=LogisticRegression()\n",
    "%time logit.fit(X_train_dtm,y_train)\n",
    "y_pred_logit=logit.predict(X_test_dtm)\n",
    "print(f'Accuracy Score:{metrics.accuracy_score(y_test, y_pred_logit)}')\n",
    "print(f'Confusion Matrix:\\n{metrics.confusion_matrix(y_test, y_pred_logit)}')"
   ]
  },
  {
   "cell_type": "code",
   "execution_count": 73,
   "id": "6fac2989",
   "metadata": {},
   "outputs": [
    {
     "name": "stdout",
     "output_type": "stream",
     "text": [
      "CPU times: total: 250 ms\n",
      "Wall time: 1.01 s\n",
      "Accuracy Score:0.9777458722182341\n",
      "Confusion Matrix:\n",
      "[[1202    0]\n",
      " [  31  160]]\n"
     ]
    }
   ],
   "source": [
    "svm=svm.SVC()\n",
    "%time svm.fit(X_train_dtm,y_train)\n",
    "y_pred_svm=svm.predict(X_test_dtm)\n",
    "print(f'Accuracy Score:{metrics.accuracy_score(y_test, y_pred_svm)}')\n",
    "print(f'Confusion Matrix:\\n{metrics.confusion_matrix(y_test, y_pred_svm)}')"
   ]
  },
  {
   "cell_type": "markdown",
   "id": "a2fb561f",
   "metadata": {},
   "source": [
    "Null Accuracy"
   ]
  },
  {
   "cell_type": "code",
   "execution_count": 62,
   "id": "d3df36ac",
   "metadata": {},
   "outputs": [
    {
     "name": "stdout",
     "output_type": "stream",
     "text": [
      "label\n",
      "ham     1202\n",
      "spam     191\n",
      "Name: count, dtype: int64\n"
     ]
    },
    {
     "data": {
      "text/plain": [
       "label\n",
       "ham    0.862886\n",
       "Name: count, dtype: float64"
      ]
     },
     "execution_count": 62,
     "metadata": {},
     "output_type": "execute_result"
    }
   ],
   "source": [
    "print(y_test.value_counts())\n",
    "y_test.value_counts().head(1)/y_test.shape"
   ]
  },
  {
   "cell_type": "markdown",
   "id": "7e906716",
   "metadata": {},
   "source": [
    "Calculate Spamminess of Each Token"
   ]
  },
  {
   "cell_type": "code",
   "execution_count": 63,
   "id": "cf3b926a",
   "metadata": {},
   "outputs": [
    {
     "name": "stdout",
     "output_type": "stream",
     "text": [
      "(7441,)\n",
      "['00' '000' '000pes' '008704050406' '0089' '0121' '0125698789' '02' '0207'\n",
      " '02072069400']\n",
      "['ìï' 'û_' 'û_thanks' 'ûªm' 'ûªt' 'ûªve' 'ûï' 'ûïharry' 'ûò' 'ûówell']\n"
     ]
    },
    {
     "data": {
      "text/html": [
       "<div>\n",
       "<style scoped>\n",
       "    .dataframe tbody tr th:only-of-type {\n",
       "        vertical-align: middle;\n",
       "    }\n",
       "\n",
       "    .dataframe tbody tr th {\n",
       "        vertical-align: top;\n",
       "    }\n",
       "\n",
       "    .dataframe thead th {\n",
       "        text-align: right;\n",
       "    }\n",
       "</style>\n",
       "<table border=\"1\" class=\"dataframe\">\n",
       "  <thead>\n",
       "    <tr style=\"text-align: right;\">\n",
       "      <th></th>\n",
       "      <th>ham</th>\n",
       "      <th>spam</th>\n",
       "      <th>ratio_ham</th>\n",
       "      <th>ratio_spam</th>\n",
       "      <th>ratio</th>\n",
       "    </tr>\n",
       "    <tr>\n",
       "      <th>token</th>\n",
       "      <th></th>\n",
       "      <th></th>\n",
       "      <th></th>\n",
       "      <th></th>\n",
       "      <th></th>\n",
       "    </tr>\n",
       "  </thead>\n",
       "  <tbody>\n",
       "    <tr>\n",
       "      <th>claim</th>\n",
       "      <td>1.0</td>\n",
       "      <td>88.0</td>\n",
       "      <td>0.000276</td>\n",
       "      <td>0.158273</td>\n",
       "      <td>573.424460</td>\n",
       "    </tr>\n",
       "    <tr>\n",
       "      <th>prize</th>\n",
       "      <td>1.0</td>\n",
       "      <td>69.0</td>\n",
       "      <td>0.000276</td>\n",
       "      <td>0.124101</td>\n",
       "      <td>449.616906</td>\n",
       "    </tr>\n",
       "    <tr>\n",
       "      <th>uk</th>\n",
       "      <td>1.0</td>\n",
       "      <td>53.0</td>\n",
       "      <td>0.000276</td>\n",
       "      <td>0.095324</td>\n",
       "      <td>345.357914</td>\n",
       "    </tr>\n",
       "    <tr>\n",
       "      <th>150p</th>\n",
       "      <td>1.0</td>\n",
       "      <td>47.0</td>\n",
       "      <td>0.000276</td>\n",
       "      <td>0.084532</td>\n",
       "      <td>306.260791</td>\n",
       "    </tr>\n",
       "    <tr>\n",
       "      <th>tone</th>\n",
       "      <td>1.0</td>\n",
       "      <td>42.0</td>\n",
       "      <td>0.000276</td>\n",
       "      <td>0.075540</td>\n",
       "      <td>273.679856</td>\n",
       "    </tr>\n",
       "    <tr>\n",
       "      <th>...</th>\n",
       "      <td>...</td>\n",
       "      <td>...</td>\n",
       "      <td>...</td>\n",
       "      <td>...</td>\n",
       "      <td>...</td>\n",
       "    </tr>\n",
       "    <tr>\n",
       "      <th>she</th>\n",
       "      <td>126.0</td>\n",
       "      <td>1.0</td>\n",
       "      <td>0.034778</td>\n",
       "      <td>0.001799</td>\n",
       "      <td>0.051716</td>\n",
       "    </tr>\n",
       "    <tr>\n",
       "      <th>lor</th>\n",
       "      <td>126.0</td>\n",
       "      <td>1.0</td>\n",
       "      <td>0.034778</td>\n",
       "      <td>0.001799</td>\n",
       "      <td>0.051716</td>\n",
       "    </tr>\n",
       "    <tr>\n",
       "      <th>he</th>\n",
       "      <td>166.0</td>\n",
       "      <td>1.0</td>\n",
       "      <td>0.045818</td>\n",
       "      <td>0.001799</td>\n",
       "      <td>0.039254</td>\n",
       "    </tr>\n",
       "    <tr>\n",
       "      <th>lt</th>\n",
       "      <td>242.0</td>\n",
       "      <td>1.0</td>\n",
       "      <td>0.066795</td>\n",
       "      <td>0.001799</td>\n",
       "      <td>0.026926</td>\n",
       "    </tr>\n",
       "    <tr>\n",
       "      <th>gt</th>\n",
       "      <td>242.0</td>\n",
       "      <td>1.0</td>\n",
       "      <td>0.066795</td>\n",
       "      <td>0.001799</td>\n",
       "      <td>0.026926</td>\n",
       "    </tr>\n",
       "  </tbody>\n",
       "</table>\n",
       "<p>7441 rows × 5 columns</p>\n",
       "</div>"
      ],
      "text/plain": [
       "         ham  spam  ratio_ham  ratio_spam       ratio\n",
       "token                                                \n",
       "claim    1.0  88.0   0.000276    0.158273  573.424460\n",
       "prize    1.0  69.0   0.000276    0.124101  449.616906\n",
       "uk       1.0  53.0   0.000276    0.095324  345.357914\n",
       "150p     1.0  47.0   0.000276    0.084532  306.260791\n",
       "tone     1.0  42.0   0.000276    0.075540  273.679856\n",
       "...      ...   ...        ...         ...         ...\n",
       "she    126.0   1.0   0.034778    0.001799    0.051716\n",
       "lor    126.0   1.0   0.034778    0.001799    0.051716\n",
       "he     166.0   1.0   0.045818    0.001799    0.039254\n",
       "lt     242.0   1.0   0.066795    0.001799    0.026926\n",
       "gt     242.0   1.0   0.066795    0.001799    0.026926\n",
       "\n",
       "[7441 rows x 5 columns]"
      ]
     },
     "execution_count": 63,
     "metadata": {},
     "output_type": "execute_result"
    }
   ],
   "source": [
    "X_train_tokens=vect.get_feature_names_out()\n",
    "print(X_train_tokens.shape)\n",
    "print(X_train_tokens[0:10])\n",
    "print(X_train_tokens[-10:])\n",
    "nb.feature_count_\n",
    "X_train_ham=nb.feature_count_[0,:]\n",
    "X_train_spam=nb.feature_count_[1,:]\n",
    "tokens=pd.DataFrame({'token':X_train_tokens,'ham':X_train_ham,'spam':X_train_spam}).set_index('token')\n",
    "tokens['spam']=tokens.spam+1\n",
    "tokens['ham']=tokens.ham+1\n",
    "tokens['ratio_ham']=tokens.ham/nb.class_count_[0]\n",
    "tokens['ratio_spam']=tokens.spam/nb.class_count_[1]\n",
    "tokens['ratio']=tokens.ratio_spam/tokens.ratio_ham\n",
    "tokens.sort_values('ratio',ascending=False)"
   ]
  }
 ],
 "metadata": {
  "kernelspec": {
   "display_name": "Python 3",
   "language": "python",
   "name": "python3"
  },
  "language_info": {
   "codemirror_mode": {
    "name": "ipython",
    "version": 3
   },
   "file_extension": ".py",
   "mimetype": "text/x-python",
   "name": "python",
   "nbconvert_exporter": "python",
   "pygments_lexer": "ipython3",
   "version": "3.12.1"
  }
 },
 "nbformat": 4,
 "nbformat_minor": 5
}
